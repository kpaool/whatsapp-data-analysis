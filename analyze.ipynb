{
 "cells": [
  {
   "cell_type": "markdown",
   "metadata": {},
   "source": [
    "## Whatsapp data analyzing\n",
    "The first cell below simply load some helper functions"
   ]
  },
  {
   "cell_type": "code",
   "execution_count": null,
   "metadata": {},
   "outputs": [],
   "source": [
    "import os\n",
    "import re\n",
    "import json\n",
    "from datetime import datetime\n",
    "\n",
    "date_format = \"%d/%m/%Y, %H:%M:%S\"\n",
    "\n",
    "def list_txt_files(directory_path):\n",
    "    txt_files = [file for file in os.listdir(directory_path) if file.endswith(\".txt\")]\n",
    "    return txt_files\n",
    "\n",
    "def read_txt_file(file_path):\n",
    "    with open(file_path, 'r', encoding='utf-8') as file:\n",
    "        content = file.read()\n",
    "    return content\n",
    "\n",
    "def extract_data_from_txt(file_path):\n",
    "    messages = []\n",
    "    with open(file_path, 'r', encoding='utf-8') as file:\n",
    "        for line in file:            \n",
    "             # Regular expression patterns to extract date, sender, and message\n",
    "            date_pattern = r'\\[(.*?)\\]'\n",
    "            sender_pattern =  r'\\](.*?):'\n",
    "            message_pattern = r': \\s*(.*)'\n",
    "            \n",
    "            date_match = re.search(date_pattern, line)\n",
    "            sender_match = re.search(sender_pattern, line)\n",
    "            message_match = re.search(message_pattern, line)\n",
    "            \n",
    "            if date_match and sender_match and message_match:\n",
    "                date = date_match.group(1)\n",
    "                sender = sender_match.group(1)\n",
    "                message = message_match.group(1)\n",
    "                \n",
    "                message_data = {\n",
    "                    \"date\": date.strip(),\n",
    "                    \"sender\": sender.strip(),\n",
    "                    \"message\": message.strip()\n",
    "                }\n",
    "                messages.append(message_data)\n",
    "    return messages\n",
    "\n",
    "# Get the notebook's directory\n",
    "notebook_directory = os.path.dirname(os.path.abspath(\"__file__\"))\n",
    "\n",
    "# Assuming the /data directory is located in the same parent directory as the notebook\n",
    "data_directory = os.path.join(notebook_directory, \"\")\n",
    "available_txt_files = list_txt_files(data_directory)\n",
    "\n",
    "print(\"Available .txt files in the /data directory:\")\n",
    "jsondata=[]\n",
    "for file in available_txt_files:\n",
    "    print(file)\n",
    "    file_path = os.path.join(data_directory, file)\n",
    "    data = extract_data_from_txt(file)\n",
    "    json_data = json.dumps(data, indent=2)\n"
   ]
  },
  {
   "cell_type": "markdown",
   "metadata": {},
   "source": [
    "#### Number of messages sent"
   ]
  },
  {
   "cell_type": "code",
   "execution_count": null,
   "metadata": {},
   "outputs": [],
   "source": [
    "print(f'There are  {len(data)} messages sent')"
   ]
  },
  {
   "cell_type": "markdown",
   "metadata": {},
   "source": [
    "#### Converting the data into a dataframe for better analysis"
   ]
  },
  {
   "cell_type": "code",
   "execution_count": null,
   "metadata": {},
   "outputs": [],
   "source": [
    "import pandas as pd\n",
    "\n",
    "df = pd.DataFrame(data)\n",
    "df['date'] = pd.to_datetime(df['date'], format='%d/%m/%Y, %H:%M:%S', errors='coerce')\n",
    "df.set_index('date', inplace=True)"
   ]
  },
  {
   "cell_type": "markdown",
   "metadata": {},
   "source": [
    "#### Simply view the dataframe to ensure everything is ok"
   ]
  },
  {
   "cell_type": "code",
   "execution_count": null,
   "metadata": {},
   "outputs": [],
   "source": [
    "df"
   ]
  },
  {
   "cell_type": "markdown",
   "metadata": {},
   "source": [
    "#### Get the most active whatsapp users by number of chats"
   ]
  },
  {
   "cell_type": "code",
   "execution_count": null,
   "metadata": {},
   "outputs": [],
   "source": [
    "df.groupby(['sender']).count().sort_values(by='message',ascending=False).head(10)"
   ]
  },
  {
   "cell_type": "markdown",
   "metadata": {},
   "source": [
    "#### Get the least active whatsapp users by number of chats"
   ]
  },
  {
   "cell_type": "code",
   "execution_count": null,
   "metadata": {},
   "outputs": [],
   "source": [
    "df.groupby(['sender']).count().sort_values(by='message',ascending=False).tail(10)"
   ]
  },
  {
   "cell_type": "markdown",
   "metadata": {},
   "source": [
    "#### Get the number of messages sent every month for the period of the exported chat"
   ]
  },
  {
   "cell_type": "code",
   "execution_count": null,
   "metadata": {},
   "outputs": [],
   "source": [
    "messages_per_month = df.resample('M').size()\n",
    "\n",
    "# Print the result\n",
    "print(messages_per_month)"
   ]
  },
  {
   "cell_type": "markdown",
   "metadata": {},
   "source": [
    "#### Visualizing the messages sent per month"
   ]
  },
  {
   "cell_type": "code",
   "execution_count": null,
   "metadata": {},
   "outputs": [],
   "source": [
    "import matplotlib.pyplot as plt\n",
    "# Create a bar plot\n",
    "plt.figure(figsize=(10, 6))\n",
    "messages_per_month.plot(kind='line', color='skyblue')\n",
    "plt.xlabel('Month')\n",
    "plt.ylabel('Number of Messages')\n",
    "plt.title('Number of Messages Sent per Month')\n",
    "plt.xticks(rotation=45)\n",
    "plt.grid(axis='y', linestyle='--', alpha=0.7)\n",
    "plt.tight_layout()\n",
    "\n",
    "# Display the plot\n",
    "plt.show()"
   ]
  },
  {
   "cell_type": "markdown",
   "metadata": {},
   "source": [
    "#### Calculate the rate of decrease"
   ]
  },
  {
   "cell_type": "code",
   "execution_count": null,
   "metadata": {},
   "outputs": [],
   "source": [
    "# Calculate the rate of decrease\n",
    "rate_of_decrease = messages_per_month.pct_change().dropna() * 100\n",
    "rate_of_decrease"
   ]
  },
  {
   "cell_type": "markdown",
   "metadata": {},
   "source": [
    "#### Visualize the number of messages sent individually by members of the chat"
   ]
  },
  {
   "cell_type": "code",
   "execution_count": null,
   "metadata": {},
   "outputs": [],
   "source": [
    "# Group the DataFrame by 'Sender' and count the number of messages for each sender\n",
    "sender_message_counts = df.groupby('sender').size()\n",
    "\n",
    "# Select the top senders with the highest message counts\n",
    "top_senders = sender_message_counts.nlargest(10)  # Change '5' to the desired number of top senders\n",
    "\n",
    "# Filter the DataFrame to include only messages from the top senders\n",
    "df_top_senders = df[df['sender'].isin(top_senders.index)]\n",
    "\n",
    "# Group the filtered DataFrame by month and count the number of messages for each month and sender\n",
    "messages_per_month_sender = df_top_senders.groupby(['sender', pd.Grouper(freq='M')]).size()\n",
    "\n",
    "# Create a line plot for the number of messages sent by the individual senders\n",
    "plt.figure(figsize=(10, 6))\n",
    "\n",
    "for sender in top_senders.index:\n",
    "    messages_per_sender = messages_per_month_sender[sender]\n",
    "    plt.plot(messages_per_sender.index, messages_per_sender.values, marker='o', label=sender)\n",
    "\n",
    "plt.xlabel('Month')\n",
    "plt.ylabel('Number of Messages')\n",
    "plt.title('Number of Messages Sent by Individual Senders per Month')\n",
    "plt.xticks(rotation=45)\n",
    "plt.grid(axis='y', linestyle='--', alpha=0.7)\n",
    "plt.legend(loc='upper left')\n",
    "plt.tight_layout()\n",
    "\n",
    "# Display the plot\n",
    "plt.show()"
   ]
  },
  {
   "cell_type": "markdown",
   "metadata": {},
   "source": [
    "#### Visualize the messages sent per hour in the chat"
   ]
  },
  {
   "cell_type": "code",
   "execution_count": null,
   "metadata": {},
   "outputs": [],
   "source": [
    "# Group the DataFrame by hour (regardless of the date) and count the number of messages sent for each hour\n",
    "messages_per_hour = df.groupby(df.index.hour).size()\n",
    "\n",
    "print(messages_per_hour)"
   ]
  },
  {
   "cell_type": "markdown",
   "metadata": {},
   "source": [
    "#### Visualize the data"
   ]
  },
  {
   "cell_type": "code",
   "execution_count": null,
   "metadata": {},
   "outputs": [],
   "source": [
    "# Create a figure and axis object\n",
    "fig, ax = plt.subplots(figsize=(12, 6))\n",
    "\n",
    "# Create a bar plot for the number of messages sent per hour\n",
    "messages_per_hour.plot(kind='bar', color='skyblue', ax=ax)\n",
    "ax.set_xlabel('Hour')\n",
    "ax.set_ylabel('Number of Messages')\n",
    "ax.set_title('Number of Messages Sent per Hour (Across All Days)')\n",
    "ax.set_xticks(range(24))\n",
    "ax.grid(axis='y', linestyle='--', alpha=0.7)\n",
    "\n",
    "# Plot a line on the same graph to show the trend or pattern of message counts\n",
    "ax.plot(messages_per_hour.index, messages_per_hour.values, marker='o', color='orange', linestyle='dashed', label='Trend')\n",
    "ax.legend(loc='upper right')\n",
    "\n",
    "# Display the plot\n",
    "plt.tight_layout()\n",
    "plt.show()"
   ]
  },
  {
   "cell_type": "markdown",
   "metadata": {},
   "source": [
    "#### Get the number of messages sent on the weekday"
   ]
  },
  {
   "cell_type": "code",
   "execution_count": null,
   "metadata": {},
   "outputs": [],
   "source": [
    "# Group the DataFrame by weekday and count the number of messages sent for each weekday\n",
    "messages_per_weekday = df.groupby(df.index.weekday).size()\n",
    "\n",
    "# Rename the weekdays to their respective names\n",
    "weekdays_names = ['Monday', 'Tuesday', 'Wednesday', 'Thursday', 'Friday', 'Saturday', 'Sunday']\n",
    "messages_per_weekday.index = weekdays_names\n",
    "\n",
    "\n",
    "print(messages_per_weekday)"
   ]
  },
  {
   "cell_type": "markdown",
   "metadata": {},
   "source": [
    "#### Visualize the data"
   ]
  },
  {
   "cell_type": "code",
   "execution_count": null,
   "metadata": {},
   "outputs": [],
   "source": [
    "# Create a bar plot for the number of messages sent on each weekday\n",
    "plt.figure(figsize=(10, 6))\n",
    "messages_per_weekday.plot(kind='bar', color='skyblue')\n",
    "plt.xlabel('Weekday')\n",
    "plt.ylabel('Number of Messages')\n",
    "plt.title('Number of Messages Sent on Weekdays')\n",
    "plt.xticks(rotation=45)\n",
    "plt.grid(axis='y', linestyle='--', alpha=0.7)\n",
    "plt.tight_layout()\n",
    "\n",
    "# Display the plot\n",
    "plt.show()"
   ]
  },
  {
   "cell_type": "markdown",
   "metadata": {},
   "source": [
    "#### Download nltk for simple sentiment analysis"
   ]
  },
  {
   "cell_type": "code",
   "execution_count": null,
   "metadata": {},
   "outputs": [],
   "source": [
    "import nltk\n",
    "nltk.download('vader_lexicon')\n",
    "\n"
   ]
  },
  {
   "cell_type": "markdown",
   "metadata": {},
   "source": [
    "#### Run sentiment analysis on the messages"
   ]
  },
  {
   "cell_type": "code",
   "execution_count": null,
   "metadata": {},
   "outputs": [],
   "source": [
    "import nltk\n",
    "from nltk.sentiment.vader import SentimentIntensityAnalyzer\n",
    "\n",
    "# Sentiment Analysis function\n",
    "def perform_sentiment_analysis(text):\n",
    "    analyzer = SentimentIntensityAnalyzer()\n",
    "    sentiment_score = analyzer.polarity_scores(text)\n",
    "    return sentiment_score\n",
    "\n",
    "# Apply sentiment analysis to the 'Message' column\n",
    "df['Sentiment_Scores'] = df['message'].apply(perform_sentiment_analysis)\n",
    "\n",
    "# Extract the compound sentiment score from the result\n",
    "df['Sentiment'] = df['Sentiment_Scores'].apply(lambda x: 'Positive' if x['compound'] >= 0 else 'Negative')\n",
    "\n",
    "# Display the DataFrame with sentiment analysis results\n",
    "print(df[['message', 'Sentiment']])"
   ]
  },
  {
   "cell_type": "code",
   "execution_count": null,
   "metadata": {},
   "outputs": [],
   "source": [
    "df"
   ]
  },
  {
   "cell_type": "markdown",
   "metadata": {},
   "source": [
    "#### View the distribution of the sentiment"
   ]
  },
  {
   "cell_type": "code",
   "execution_count": null,
   "metadata": {},
   "outputs": [],
   "source": [
    "sentiment_counts = df.groupby('Sentiment').size()\n",
    "\n",
    "# Display the sentiment counts\n",
    "print(sentiment_counts)"
   ]
  },
  {
   "cell_type": "markdown",
   "metadata": {},
   "source": [
    "##### Visualize the data"
   ]
  },
  {
   "cell_type": "code",
   "execution_count": null,
   "metadata": {},
   "outputs": [],
   "source": [
    "# Group the DataFrame by sentiment and count the occurrences of positive and negative sentiments\n",
    "sentiment_counts = df.groupby('Sentiment').size()\n",
    "\n",
    "# Create a pie chart to visualize the sentiment distribution with percentages\n",
    "plt.figure(figsize=(6, 6))\n",
    "plt.pie(sentiment_counts, labels=sentiment_counts.index, autopct='%1.1f%%', colors=['skyblue', 'lightcoral'], startangle=140)\n",
    "plt.title('Sentiment Distribution')\n",
    "plt.axis('equal')\n",
    "\n",
    "# Display the plot\n",
    "plt.show()"
   ]
  },
  {
   "cell_type": "code",
   "execution_count": null,
   "metadata": {},
   "outputs": [],
   "source": [
    "df"
   ]
  },
  {
   "cell_type": "code",
   "execution_count": null,
   "metadata": {},
   "outputs": [],
   "source": []
  }
 ],
 "metadata": {
  "kernelspec": {
   "display_name": "venv",
   "language": "python",
   "name": "python3"
  },
  "language_info": {
   "codemirror_mode": {
    "name": "ipython",
    "version": 3
   },
   "file_extension": ".py",
   "mimetype": "text/x-python",
   "name": "python",
   "nbconvert_exporter": "python",
   "pygments_lexer": "ipython3",
   "version": "3.11.3"
  },
  "orig_nbformat": 4
 },
 "nbformat": 4,
 "nbformat_minor": 2
}
